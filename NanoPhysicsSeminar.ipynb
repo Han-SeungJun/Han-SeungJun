{
  "nbformat": 4,
  "nbformat_minor": 0,
  "metadata": {
    "colab": {
      "name": "NanoPhysicsSeminar.ipynb",
      "provenance": [],
      "collapsed_sections": [],
      "authorship_tag": "ABX9TyPMmylx047z2aVCKWNe4/0L"
    },
    "kernelspec": {
      "name": "python3",
      "display_name": "Python 3"
    },
    "language_info": {
      "name": "python"
    }
  },
  "cells": [
    {
      "cell_type": "code",
      "execution_count": 123,
      "metadata": {
        "colab": {
          "base_uri": "https://localhost:8080/"
        },
        "id": "ioQYcWXArG8q",
        "outputId": "cad0af48-56e2-4d72-ec9b-4e116d8fa1a4"
      },
      "outputs": [
        {
          "output_type": "stream",
          "name": "stdout",
          "text": [
            "abcdefghijklmnopqrstuvwxyz\n",
            "f -> 5\n",
            "i -> 8\n",
            "g -> 6\n",
            "\n",
            "RSA 암호키로 변경한 암호 : 25, 2, 41 \n",
            "\n",
            "25 -> z\n",
            "2 -> c\n",
            "41 -> p \n",
            "\n",
            "따라서, fig -> zcp\n"
          ]
        }
      ],
      "source": [
        "# 암호실습 문제 1번 : 공개 암호키 (55, 7)을 사용해 단어 fig의 암호문을 작성해보시오.\n",
        "\n",
        "\n",
        "# 시저 암호문 구현\n",
        "\n",
        "alphabet = 'abcdefghijklmnopqrstuvwxyz'\n",
        "alphabet.split()\n",
        "\n",
        "# fig를 시저암호문을 사용해 숫자로 표현\n",
        "\n",
        "f = alphabet.find('f')\n",
        "i = alphabet.find('i')\n",
        "g = alphabet.find('g')\n",
        "\n",
        "print(\"%c -> %d\" % (alphabet[f], alphabet.find('f')))\n",
        "print(\"%c -> %d\" % (alphabet[i], alphabet.find('i')))\n",
        "print(\"%c -> %d\\n\" % (alphabet[g], alphabet.find('g')))\n",
        "\n",
        "\n",
        "# (n,e) = (55, 7) 이므로\n",
        "p = 5\n",
        "q = 11\n",
        "n = p * q\n",
        "e = 7\n",
        "\n",
        "\n",
        "# mod 함수를 정의하여 fig를 암호화\n",
        "\n",
        "def mod(a, x, N):\n",
        "    return pow(a, x) % N\n",
        "\n",
        "rsaKey0 = mod(f, e, n)  # 암호화\n",
        "rsaKey1 = mod(i, e, n)\n",
        "rsaKey2 = mod(g, e, n)\n",
        "\n",
        "print(\"RSA 암호키로 변경한 암호 : %d, %d, %d \\n\" %(rsaKey0, rsaKey1, rsaKey2))\n",
        "\n",
        "\n",
        "# 암호를 다시 시저 암호문으로 변환\n",
        "\n",
        "print(\"%d -> %c\" %(rsaKey0, alphabet[rsaKey0]))\n",
        "print(\"%d -> %c\" %(rsaKey1, alphabet[rsaKey1]))\n",
        "print(\"%d -> %c \\n\" %(rsaKey2, alphabet[rsaKey2 - len(alphabet)]))\n",
        "\n",
        "print(\"따라서, %s -> %s\" % (alphabet[f] + alphabet[i] + alphabet[g], alphabet[rsaKey0] + alphabet[rsaKey1] + alphabet[rsaKey2 - len(alphabet)]))"
      ]
    },
    {
      "cell_type": "code",
      "source": [
        "# 암호실습 문제 2번 # ilovephysics의 암호문을 작성하라.\n",
        "\n",
        "# 시저 암호문 구현\n",
        "\n",
        "alphabet = 'abcdefghijklmnopqrstuvwxyz'\n",
        "alphabet.split()\n",
        "\n",
        "\n",
        "# ilovephysics 문자열 시저암호문 숫자암호로 표현\n",
        "\n",
        "string = 'ilovephysics'\n",
        "string.split()\n",
        "\n",
        "# 공개 암호키 (n,e) = (55, 7) 이므로\n",
        "\n",
        "n = 55\n",
        "e = 7\n",
        "\n",
        "\n",
        "# mod함수를 사용하여 문자열 암호화\n",
        "\n",
        "cryptogram = []\n",
        "for num in range(len(string)):\n",
        "    cryptogram.append(alphabet.find(string[num]))\n",
        "print(\"'%s' 의 암호화 전 정수 표현 : \" %(string), cryptogram)\n",
        "\n",
        "def mod(a, x, N):\n",
        "    return pow(a, x) % N\n",
        "\n",
        "rsaKey = []\n",
        "for num in range(12):\n",
        "    rsaKey.append(mod(cryptogram[num], e, n))  # 암호화\n",
        "\n",
        "print(\"'%s' 의 암호화 후 정수 표현 : \" %(string), rsaKey)\n",
        "print()\n",
        "\n",
        "# 암호화된 수를 다시 문자로 변환\n",
        "\n",
        "rsaKey2 = ''\n",
        "\n",
        "for num in range(len(string)):\n",
        "    if(rsaKey[num] < 26):\n",
        "        print(\"%d -> %c\" %(rsaKey[num], alphabet[rsaKey[num]]))\n",
        "        rsaKey2 += str(alphabet[rsaKey[num]])\n",
        "    else:\n",
        "        print(\"%d -> %c\" %(rsaKey[num], alphabet[rsaKey[num] - len(alphabet)]))\n",
        "        rsaKey2 += str(alphabet[rsaKey[num] - len(alphabet)])\n",
        "\n",
        "print()\n",
        "print(\"'%s'의 암호화된 수를 다시 문자로 변환 : '%s'\" %(string, rsaKey2))"
      ],
      "metadata": {
        "colab": {
          "base_uri": "https://localhost:8080/"
        },
        "id": "iGE88y3_t9i-",
        "outputId": "742ef102-b3ae-4b55-fb59-24bf2c0625bb"
      },
      "execution_count": 89,
      "outputs": [
        {
          "output_type": "stream",
          "name": "stdout",
          "text": [
            "'ilovephysics' 의 암호화 전 정수 표현 :  [8, 11, 14, 21, 4, 15, 7, 24, 18, 8, 2, 18]\n",
            "'ilovephysics' 의 암호화 후 정수 표현 :  [2, 11, 9, 21, 49, 5, 28, 29, 17, 2, 18, 17]\n",
            "\n",
            "2 -> c\n",
            "11 -> l\n",
            "9 -> j\n",
            "21 -> v\n",
            "49 -> x\n",
            "5 -> f\n",
            "28 -> c\n",
            "29 -> d\n",
            "17 -> r\n",
            "2 -> c\n",
            "18 -> s\n",
            "17 -> r\n",
            "\n",
            "'ilovephysics'의 암호화된 수를 다시 문자로 변환 : 'cljvxfcdrcsr'\n"
          ]
        }
      ]
    },
    {
      "cell_type": "code",
      "source": [
        "# 문제 3번 : 암호키 (55, 7)로 한 개의 단어를 암호화 한 결과 4, 0, 8 이 되었다. 해독키 d = 23을 이용해 이 암호를 해독해보라.\n",
        "\n",
        "# 공개 암호키 (n,e) = (55, 7) 이므로\n",
        "\n",
        "p = 5\n",
        "q = 11\n",
        "n = p * q    # n을 소인수분해하면 5 * 11 이다.\n",
        "e = 7\n",
        "\n",
        "p2 = (n / 11 - 1)\n",
        "q2 = (n / 5 - 1)\n",
        "\n",
        "# 해독키\n",
        "\n",
        "d = 23\n",
        "\n",
        "\n",
        "# ed mod (p - 1)*(q - 1) 계산하기\n",
        "# 암호화된 수를 디코딩\n",
        "\n",
        "decode = []\n",
        "decode2 = ''\n",
        "\n",
        "decode.append(int(mod(4, d, p2 * q2)))\n",
        "decode.append(int(mod(0, d, p2 * q2)))\n",
        "decode.append(int(mod(8, d, p2 * q2)))\n",
        "\n",
        "for num in range(3):\n",
        "    if(decode[num] < 26):\n",
        "        print(\"%d -> %c\" %(decode[num], alphabet[decode[num]]))\n",
        "        decode2 += str(alphabet[decode[num]])\n",
        "    else:\n",
        "        print(\"%d -> %c\" %(decode[num], alphabet[decode[num] - len(alphabet)]))\n",
        "        decode2 += str(alphabet[decode[num] - len(alphabet)])\n",
        "\n",
        "print()\n",
        "print(\"'%d'의 해독문 : %s\" %(408, decode2))"
      ],
      "metadata": {
        "colab": {
          "base_uri": "https://localhost:8080/"
        },
        "id": "Kc4v81ppR59Z",
        "outputId": "bfc07805-67ec-4fbd-c4f9-57cb903a5727"
      },
      "execution_count": 113,
      "outputs": [
        {
          "output_type": "stream",
          "name": "stdout",
          "text": [
            "24 -> y\n",
            "0 -> a\n",
            "32 -> g\n",
            "\n",
            "'408'의 해독문 : yag\n"
          ]
        }
      ]
    },
    {
      "cell_type": "code",
      "source": [
        "# 문제 4번 : f(x) = 2^x mod 5의 주기 r을 구하시오.\n",
        "\n",
        "\n",
        "for x in range(10):\n",
        "    print(\"x = %d, %d^%d = %d, %d^%d mod %d = %d\" %(x, 2, x, pow(2, x), 2, x, 5, mod(2, x, 5)))\n",
        "\n",
        "print('------------------')\n",
        "print(\"주기 r = %d\" % 4)"
      ],
      "metadata": {
        "colab": {
          "base_uri": "https://localhost:8080/"
        },
        "id": "FAsCJT8rhC_h",
        "outputId": "c92c1772-ec01-4aa7-e49c-27429d0d3286"
      },
      "execution_count": 136,
      "outputs": [
        {
          "output_type": "stream",
          "name": "stdout",
          "text": [
            "x = 0, 2^0 = 1, 2^0 mod 5 = 1\n",
            "x = 1, 2^1 = 2, 2^1 mod 5 = 2\n",
            "x = 2, 2^2 = 4, 2^2 mod 5 = 4\n",
            "x = 3, 2^3 = 8, 2^3 mod 5 = 3\n",
            "x = 4, 2^4 = 16, 2^4 mod 5 = 1\n",
            "x = 5, 2^5 = 32, 2^5 mod 5 = 2\n",
            "x = 6, 2^6 = 64, 2^6 mod 5 = 4\n",
            "x = 7, 2^7 = 128, 2^7 mod 5 = 3\n",
            "x = 8, 2^8 = 256, 2^8 mod 5 = 1\n",
            "x = 9, 2^9 = 512, 2^9 mod 5 = 2\n",
            "------------------\n",
            "주기 r = 4\n"
          ]
        }
      ]
    },
    {
      "cell_type": "code",
      "source": [
        "# 문제 4번\n",
        "\n",
        "\n",
        "r = 0   # 주기 계산값을 넣을 변수 \n",
        "for x in range(20):\n",
        "    r += 1 \n",
        "    if (mod(3, x, 35) == mod(3, x + r, 35)):  # 2^x mod 5의 값이 같아질 때 (한 주기를 돌았을 때) 반복문 종료\n",
        "        break\n",
        "\n",
        "print(\"주기 : %d\" % r)"
      ],
      "metadata": {
        "colab": {
          "base_uri": "https://localhost:8080/"
        },
        "id": "ptoI45brZTsu",
        "outputId": "e63927dd-d083-46d0-977d-4bfe120d20a0"
      },
      "execution_count": 138,
      "outputs": [
        {
          "output_type": "stream",
          "name": "stdout",
          "text": [
            "주기 : 12\n"
          ]
        }
      ]
    },
    {
      "cell_type": "code",
      "source": [
        "# 문제 5번 : f(x) = 3^x mod 35의 주기 r을 구하는 프로그램을 작성하여 구하기오.\n",
        "\n",
        "\n",
        "# 주기 r을 반환하는 함수 작성\n",
        "\n",
        "def period2modular(a, N):\n",
        "    r = 0   # 반환할 주기 초기화\n",
        "    for x in range(20):\n",
        "        r += 1 \n",
        "        if (mod(a, x, N) == mod(a, x + r, N)):  # 2^x mod 5의 값이 같아질 때 (한 주기를 돌았을 때) 주기값 r 반환\n",
        "            return r\n",
        "\n",
        "# 실제로 주기구하는 함수 프로그램이 작동하는지 실험\n",
        "\n",
        "r = period2modular(3, 35)\n",
        "print(r)\n",
        "print('------------------------')\n",
        "print(\"실제 f(x)의 값들 : \")\n",
        "for x in range(20):\n",
        "    print(\"x = %d, %d^%d = %d, %d^%d mod %d = %d\" %(x, 3, x, pow(3, x), 3, x, 35, mod(3, x, 35)))\n",
        "\n",
        "print('------------------------')\n",
        "print(\"주기는 12이므로 프로그램이 잘 작동함.\")"
      ],
      "metadata": {
        "id": "X09jXv2_0_Ec",
        "colab": {
          "base_uri": "https://localhost:8080/"
        },
        "outputId": "79997308-7074-49b6-da64-fe0296fff7b8"
      },
      "execution_count": 140,
      "outputs": [
        {
          "output_type": "stream",
          "name": "stdout",
          "text": [
            "12\n",
            "------------------------\n",
            "실제 f(x)의 값들 : \n",
            "x = 0, 3^0 = 1, 3^0 mod 35 = 1\n",
            "x = 1, 3^1 = 3, 3^1 mod 35 = 3\n",
            "x = 2, 3^2 = 9, 3^2 mod 35 = 9\n",
            "x = 3, 3^3 = 27, 3^3 mod 35 = 27\n",
            "x = 4, 3^4 = 81, 3^4 mod 35 = 11\n",
            "x = 5, 3^5 = 243, 3^5 mod 35 = 33\n",
            "x = 6, 3^6 = 729, 3^6 mod 35 = 29\n",
            "x = 7, 3^7 = 2187, 3^7 mod 35 = 17\n",
            "x = 8, 3^8 = 6561, 3^8 mod 35 = 16\n",
            "x = 9, 3^9 = 19683, 3^9 mod 35 = 13\n",
            "x = 10, 3^10 = 59049, 3^10 mod 35 = 4\n",
            "x = 11, 3^11 = 177147, 3^11 mod 35 = 12\n",
            "x = 12, 3^12 = 531441, 3^12 mod 35 = 1\n",
            "x = 13, 3^13 = 1594323, 3^13 mod 35 = 3\n",
            "x = 14, 3^14 = 4782969, 3^14 mod 35 = 9\n",
            "x = 15, 3^15 = 14348907, 3^15 mod 35 = 27\n",
            "x = 16, 3^16 = 43046721, 3^16 mod 35 = 11\n",
            "x = 17, 3^17 = 129140163, 3^17 mod 35 = 33\n",
            "x = 18, 3^18 = 387420489, 3^18 mod 35 = 29\n",
            "x = 19, 3^19 = 1162261467, 3^19 mod 35 = 17\n",
            "------------------------\n",
            "주기는 12이므로 프로그램이 잘 작동함.\n"
          ]
        }
      ]
    },
    {
      "cell_type": "code",
      "source": [
        ""
      ],
      "metadata": {
        "id": "GptqYFezkHpe"
      },
      "execution_count": null,
      "outputs": []
    }
  ]
}